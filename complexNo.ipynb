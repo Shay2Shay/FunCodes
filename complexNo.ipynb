{
 "cells": [
  {
   "cell_type": "markdown",
   "metadata": {},
   "source": [
    "# Complex Number as Linear operation\n",
    "\n",
    "### i is pi rotation anti-clockwise [[0,1],[-1,0]]"
   ]
  },
  {
   "cell_type": "code",
   "execution_count": 1,
   "metadata": {},
   "outputs": [],
   "source": [
    "import numpy"
   ]
  },
  {
   "cell_type": "code",
   "execution_count": 13,
   "metadata": {},
   "outputs": [],
   "source": [
    "i = numpy.matrix([[0,1], [-1,0]])\n",
    "I = numpy.matrix(numpy.identity(2))"
   ]
  },
  {
   "cell_type": "code",
   "execution_count": 37,
   "metadata": {},
   "outputs": [
    {
     "ename": "SyntaxError",
     "evalue": "invalid syntax (3103006477.py, line 19)",
     "output_type": "error",
     "traceback": [
      "\u001b[0;36m  Cell \u001b[0;32mIn[37], line 19\u001b[0;36m\u001b[0m\n\u001b[0;31m    return [x for j in range(2) x = self.vector.item((o,j))]\u001b[0m\n\u001b[0m                                ^\u001b[0m\n\u001b[0;31mSyntaxError\u001b[0m\u001b[0;31m:\u001b[0m invalid syntax\n"
     ]
    }
   ],
   "source": [
    "class LinearComplex:\n",
    "    def __init__(self, real=1, imaginary=0) -> None:\n",
    "        self.vector = numpy.matrix([real, imaginary])\n",
    "\n",
    "    def __str__(self) -> str:\n",
    "        return str(self.vector)\n",
    "    \n",
    "    def __add__(self, number : LinearComplex):\n",
    "        a = self.vector + number.vector\n",
    "        return LinearComplex(a.item((0,0)), a.item((0,1)))\n",
    "    \n",
    "    def __mul__(self, number : LinearComplex):\n",
    "        a = self.vector * number.vector.item((0,0))\n",
    "        b = self.vector * number.vector.item((0,1)) * i\n",
    "        a = a+b\n",
    "        return LinearComplex(a.item((0,0)), a.item((0,1)))\n",
    "    \n",
    "    def norm(self):\n",
    "        return [x for j in range(2) : x = self.vector.item((o,j))]\n",
    "    \n",
    "    def getPolar(self):\n",
    "        return\n",
    "\n",
    "n1 = LinearComplex(1,1)\n",
    "n2 = LinearComplex(1,1)\n",
    "\n",
    "print(n1+n2)\n",
    "\n",
    "print(n1*n2)"
   ]
  },
  {
   "cell_type": "code",
   "execution_count": null,
   "metadata": {},
   "outputs": [],
   "source": []
  }
 ],
 "metadata": {
  "kernelspec": {
   "display_name": "Python 3",
   "language": "python",
   "name": "python3"
  },
  "language_info": {
   "codemirror_mode": {
    "name": "ipython",
    "version": 3
   },
   "file_extension": ".py",
   "mimetype": "text/x-python",
   "name": "python",
   "nbconvert_exporter": "python",
   "pygments_lexer": "ipython3",
   "version": "3.10.12"
  },
  "orig_nbformat": 4
 },
 "nbformat": 4,
 "nbformat_minor": 2
}
